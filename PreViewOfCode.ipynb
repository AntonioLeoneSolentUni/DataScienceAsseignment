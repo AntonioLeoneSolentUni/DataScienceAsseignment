{
 "cells": [
  {
   "cell_type": "code",
   "execution_count": null,
   "id": "initial_id",
   "metadata": {
    "collapsed": true
   },
   "outputs": [],
   "source": ""
  },
  {
   "metadata": {},
   "cell_type": "markdown",
   "source": [
    "import pandas as pd\n",
    "\n",
    "dataframe = pd.read_csv('MedicalDatasetVision.csv')\n",
    "\n",
    "print(dataframe)"
   ],
   "id": "6d9b5d9344747ee"
  },
  {
   "metadata": {
    "ExecuteTime": {
     "end_time": "2024-10-29T02:37:21.571323Z",
     "start_time": "2024-10-29T02:37:21.260556Z"
    }
   },
   "cell_type": "code",
   "source": [
    "import pandas as pd\n",
    "\n",
    "dataframe = pd.read_csv('MedicalDatasetVision.csv')\n",
    "print(\"-----------Data (5 Colums)----------\")\n",
    "print(dataframe.head(5))\n",
    "\n",
    "\n",
    "print(\"----------Data Types----------------\")\n",
    "print(dataframe.dtypes)"
   ],
   "id": "2b96091e1d9e95a7",
   "outputs": [
    {
     "name": "stdout",
     "output_type": "stream",
     "text": [
      "-----------Data (5 Colums)----------\n",
      "   YearStart  YearEnd LocationAbbr LocationDesc DataSource  \\\n",
      "0       2016     2017           US     National       NHIS   \n",
      "1       2016     2017           US     National       NHIS   \n",
      "2       2016     2017           US     National       NHIS   \n",
      "3       2016     2017           US     National       NHIS   \n",
      "4       2016     2017           US     National       NHIS   \n",
      "\n",
      "                 Topic          Category  \\\n",
      "0  Service Utilization  Cataract Surgery   \n",
      "1  Service Utilization  Cataract Surgery   \n",
      "2  Service Utilization    Eye Protection   \n",
      "3  Service Utilization    Eye Protection   \n",
      "4  Service Utilization    Eye Protection   \n",
      "\n",
      "                                            Question          Response  \\\n",
      "0  Percentage of people with diagnosed cataract w...               Yes   \n",
      "1  Percentage of people with diagnosed cataract w...               Yes   \n",
      "2  Proportion of adults who participate in activi...           Refused   \n",
      "3  Proportion of adults who participate in activi...        Don't Know   \n",
      "4  Proportion of adults who participate in activi...  Some of the time   \n",
      "\n",
      "                  Age  ... QuestionID ResponseID DataValueTypeID      AgeID  \\\n",
      "0         65-84 years  ...      QCATS       RYES             NaN    AGE6584   \n",
      "1  85 years and older  ...      QCATS       RYES             NaN  AGE85PLUS   \n",
      "2         40-64 years  ...     ISPROT        RRF             NaN    AGE4064   \n",
      "3         40-64 years  ...     ISPROT        RDK             NaN    AGE4064   \n",
      "4         18-39 years  ...     ISPROT      RSOMT             NaN    AGE1839   \n",
      "\n",
      "  GenderID RaceEthnicityID  RiskFactorID RiskFactorResponseID GeoLocation  \\\n",
      "0       GF             ASN          RFDM                 RFBD         NaN   \n",
      "1       GM             OTH          RFDM                 RFNO         NaN   \n",
      "2     GALL             OTH          RFDM                RFYES         NaN   \n",
      "3       GM         ALLRACE          RFDM                RFYES         NaN   \n",
      "4       GM             ASN          RFDM                 RFNO         NaN   \n",
      "\n",
      "   Geographic Level  \n",
      "0               NaN  \n",
      "1               NaN  \n",
      "2               NaN  \n",
      "3               NaN  \n",
      "4               NaN  \n",
      "\n",
      "[5 rows x 36 columns]\n",
      "----------Data Types----------------\n",
      "YearStart                       int64\n",
      "YearEnd                         int64\n",
      "LocationAbbr                   object\n",
      "LocationDesc                   object\n",
      "DataSource                     object\n",
      "Topic                          object\n",
      "Category                       object\n",
      "Question                       object\n",
      "Response                       object\n",
      "Age                            object\n",
      "Gender                         object\n",
      "RaceEthnicity                  object\n",
      "RiskFactor                     object\n",
      "RiskFactorResponse             object\n",
      "Data_Value_Unit                object\n",
      "Data_Value_Type                object\n",
      "Data_Value                    float64\n",
      "Data_Value_Footnote_Symbol     object\n",
      "Data_Value_Footnote            object\n",
      "Low_Confidence_Limit          float64\n",
      "High_Confidence_Limit         float64\n",
      "Numerator                     float64\n",
      "Sample_Size                   float64\n",
      "LocationID                      int64\n",
      "TopicID                        object\n",
      "CategoryID                     object\n",
      "QuestionID                     object\n",
      "ResponseID                     object\n",
      "DataValueTypeID               float64\n",
      "AgeID                          object\n",
      "GenderID                       object\n",
      "RaceEthnicityID                object\n",
      "RiskFactorID                   object\n",
      "RiskFactorResponseID           object\n",
      "GeoLocation                   float64\n",
      "Geographic Level              float64\n",
      "dtype: object\n"
     ]
    }
   ],
   "execution_count": 2
  }
 ],
 "metadata": {
  "kernelspec": {
   "display_name": "Python 3",
   "language": "python",
   "name": "python3"
  },
  "language_info": {
   "codemirror_mode": {
    "name": "ipython",
    "version": 2
   },
   "file_extension": ".py",
   "mimetype": "text/x-python",
   "name": "python",
   "nbconvert_exporter": "python",
   "pygments_lexer": "ipython2",
   "version": "2.7.6"
  }
 },
 "nbformat": 4,
 "nbformat_minor": 5
}
