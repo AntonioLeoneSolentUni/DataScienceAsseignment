{
 "cells": [
  {
   "metadata": {},
   "cell_type": "markdown",
   "source": [
    "# Goal\n",
    "\n",
    "### Showing the risk of blinding in relation between Age - Gender - race  and Risk Factors\n",
    "### with the timeline from 2014-> 2017\n",
    "\n",
    "### Showing different Category of blinding in relation between Age - Gender - race  and Risk Factors\n",
    "### with the timeline from 2014-> 2017"
   ],
   "id": "7825b3799b4e664e"
  },
  {
   "metadata": {},
   "cell_type": "markdown",
   "source": [
    "To begin with, we read the data with the Libary \"pandas\".\n",
    "\n",
    "we can see that there are way to many useless data to make a clear picture for the Goal we settled on."
   ],
   "id": "b92384862314f823"
  },
  {
   "cell_type": "code",
   "id": "initial_id",
   "metadata": {
    "collapsed": true,
    "ExecuteTime": {
     "end_time": "2024-11-03T22:07:53.581470Z",
     "start_time": "2024-11-03T22:07:53.273206Z"
    }
   },
   "source": [
    "\n",
    "\n",
    "\n",
    "import matplotlib.pyplot as plt\n",
    "import pandas as pd\n",
    "\n",
    "df = pd.read_csv('MedicalDatasetVision.csv')\n",
    "\n",
    "print(df)\n",
    "\n"
   ],
   "outputs": [
    {
     "name": "stdout",
     "output_type": "stream",
     "text": [
      "       YearStart  YearEnd LocationAbbr LocationDesc DataSource  \\\n",
      "0           2016     2017           US     National       NHIS   \n",
      "1           2016     2017           US     National       NHIS   \n",
      "2           2016     2017           US     National       NHIS   \n",
      "3           2016     2017           US     National       NHIS   \n",
      "4           2016     2017           US     National       NHIS   \n",
      "...          ...      ...          ...          ...        ...   \n",
      "71644       2016     2017           US     National       NHIS   \n",
      "71645       2016     2017           US     National       NHIS   \n",
      "71646       2016     2017           US     National       NHIS   \n",
      "71647       2016     2017           US     National       NHIS   \n",
      "71648       2016     2017           US     National       NHIS   \n",
      "\n",
      "                     Topic          Category  \\\n",
      "0      Service Utilization  Cataract Surgery   \n",
      "1      Service Utilization  Cataract Surgery   \n",
      "2      Service Utilization    Eye Protection   \n",
      "3      Service Utilization    Eye Protection   \n",
      "4      Service Utilization    Eye Protection   \n",
      "...                    ...               ...   \n",
      "71644      Visual Function      Visual Field   \n",
      "71645      Visual Function      Visual Field   \n",
      "71646      Visual Function      Visual Field   \n",
      "71647      Visual Function      Visual Field   \n",
      "71648      Visual Function      Visual Field   \n",
      "\n",
      "                                                Question  \\\n",
      "0      Percentage of people with diagnosed cataract w...   \n",
      "1      Percentage of people with diagnosed cataract w...   \n",
      "2      Proportion of adults who participate in activi...   \n",
      "3      Proportion of adults who participate in activi...   \n",
      "4      Proportion of adults who participate in activi...   \n",
      "...                                                  ...   \n",
      "71644  Percentage of adults who even when wearing gla...   \n",
      "71645  Percentage of adults who even when wearing gla...   \n",
      "71646  Percentage of adults who even when wearing gla...   \n",
      "71647  Percentage of adults who even when wearing gla...   \n",
      "71648  Percentage of adults who even when wearing gla...   \n",
      "\n",
      "                   Response                 Age  ... QuestionID ResponseID  \\\n",
      "0                       Yes         65-84 years  ...      QCATS       RYES   \n",
      "1                       Yes  85 years and older  ...      QCATS       RYES   \n",
      "2                   Refused         40-64 years  ...     ISPROT        RRF   \n",
      "3                Don't Know         40-64 years  ...     ISPROT        RDK   \n",
      "4          Some of the time         18-39 years  ...     ISPROT      RSOMT   \n",
      "...                     ...                 ...  ...        ...        ...   \n",
      "71644               Refused         40-64 years  ...      ISNS2        RRF   \n",
      "71645    Somewhat difficult  18 years and older  ...      ISNS2       RSWD   \n",
      "71646  Not at all difficult         18-39 years  ...      ISNS2      RNOTD   \n",
      "71647  Not at all difficult         18-39 years  ...      ISNS2      RNOTD   \n",
      "71648        Very difficult         18-39 years  ...      ISNS2        RVD   \n",
      "\n",
      "      DataValueTypeID      AgeID GenderID RaceEthnicityID  RiskFactorID  \\\n",
      "0                 NaN    AGE6584       GF             ASN          RFDM   \n",
      "1                 NaN  AGE85PLUS       GM             OTH          RFDM   \n",
      "2                 NaN    AGE4064     GALL             OTH          RFDM   \n",
      "3                 NaN    AGE4064       GM         ALLRACE          RFDM   \n",
      "4                 NaN    AGE1839       GM             ASN          RFDM   \n",
      "...               ...        ...      ...             ...           ...   \n",
      "71644             NaN    AGE4064     GALL             ASN        RFAPAR   \n",
      "71645             NaN  AGE18PLUS       GF         ALLRACE        RFAPAR   \n",
      "71646             NaN    AGE1839       GF         ALLRACE          RFSM   \n",
      "71647             NaN    AGE1839       GF            HISP          RFDM   \n",
      "71648             NaN    AGE1839       GF             BLK          RFDM   \n",
      "\n",
      "      RiskFactorResponseID GeoLocation  Geographic Level  \n",
      "0                     RFBD         NaN               NaN  \n",
      "1                     RFNO         NaN               NaN  \n",
      "2                    RFYES         NaN               NaN  \n",
      "3                    RFYES         NaN               NaN  \n",
      "4                     RFNO         NaN               NaN  \n",
      "...                    ...         ...               ...  \n",
      "71644                RFTOT         NaN               NaN  \n",
      "71645                RFTOT         NaN               NaN  \n",
      "71646               RFFORM         NaN               NaN  \n",
      "71647                RFYES         NaN               NaN  \n",
      "71648                 RFNO         NaN               NaN  \n",
      "\n",
      "[71649 rows x 36 columns]\n"
     ]
    }
   ],
   "execution_count": 13
  },
  {
   "metadata": {},
   "cell_type": "markdown",
   "source": [
    "Step 1.\n",
    "Removing unnecessary Colums."
   ],
   "id": "1e5f303fd600931d"
  },
  {
   "metadata": {
    "ExecuteTime": {
     "end_time": "2024-11-03T22:07:53.658537Z",
     "start_time": "2024-11-03T22:07:53.608995Z"
    }
   },
   "cell_type": "code",
   "source": [
    "df = df.drop([\"Numerator\",\"Data_Value_Footnote\",\"Data_Value_Footnote_Symbol\",\"LocationID\",\"DataValueTypeID\",\"GeoLocation\",\"Geographic Level\"],axis=1)\n",
    "\n",
    "print(df)"
   ],
   "id": "78f2b0bbeb5ae420",
   "outputs": [
    {
     "name": "stdout",
     "output_type": "stream",
     "text": [
      "       YearStart  YearEnd LocationAbbr LocationDesc DataSource  \\\n",
      "0           2016     2017           US     National       NHIS   \n",
      "1           2016     2017           US     National       NHIS   \n",
      "2           2016     2017           US     National       NHIS   \n",
      "3           2016     2017           US     National       NHIS   \n",
      "4           2016     2017           US     National       NHIS   \n",
      "...          ...      ...          ...          ...        ...   \n",
      "71644       2016     2017           US     National       NHIS   \n",
      "71645       2016     2017           US     National       NHIS   \n",
      "71646       2016     2017           US     National       NHIS   \n",
      "71647       2016     2017           US     National       NHIS   \n",
      "71648       2016     2017           US     National       NHIS   \n",
      "\n",
      "                     Topic          Category  \\\n",
      "0      Service Utilization  Cataract Surgery   \n",
      "1      Service Utilization  Cataract Surgery   \n",
      "2      Service Utilization    Eye Protection   \n",
      "3      Service Utilization    Eye Protection   \n",
      "4      Service Utilization    Eye Protection   \n",
      "...                    ...               ...   \n",
      "71644      Visual Function      Visual Field   \n",
      "71645      Visual Function      Visual Field   \n",
      "71646      Visual Function      Visual Field   \n",
      "71647      Visual Function      Visual Field   \n",
      "71648      Visual Function      Visual Field   \n",
      "\n",
      "                                                Question  \\\n",
      "0      Percentage of people with diagnosed cataract w...   \n",
      "1      Percentage of people with diagnosed cataract w...   \n",
      "2      Proportion of adults who participate in activi...   \n",
      "3      Proportion of adults who participate in activi...   \n",
      "4      Proportion of adults who participate in activi...   \n",
      "...                                                  ...   \n",
      "71644  Percentage of adults who even when wearing gla...   \n",
      "71645  Percentage of adults who even when wearing gla...   \n",
      "71646  Percentage of adults who even when wearing gla...   \n",
      "71647  Percentage of adults who even when wearing gla...   \n",
      "71648  Percentage of adults who even when wearing gla...   \n",
      "\n",
      "                   Response                 Age  ... Sample_Size TopicID  \\\n",
      "0                       Yes         65-84 years  ...         NaN    TUTL   \n",
      "1                       Yes  85 years and older  ...         NaN    TUTL   \n",
      "2                   Refused         40-64 years  ...         NaN    TUTL   \n",
      "3                Don't Know         40-64 years  ...       398.0    TUTL   \n",
      "4          Some of the time         18-39 years  ...       174.0    TUTL   \n",
      "...                     ...                 ...  ...         ...     ...   \n",
      "71644               Refused         40-64 years  ...      1084.0  TVFUNC   \n",
      "71645    Somewhat difficult  18 years and older  ...     32539.0  TVFUNC   \n",
      "71646  Not at all difficult         18-39 years  ...      1178.0  TVFUNC   \n",
      "71647  Not at all difficult         18-39 years  ...         NaN  TVFUNC   \n",
      "71648        Very difficult         18-39 years  ...      1299.0  TVFUNC   \n",
      "\n",
      "      CategoryID QuestionID ResponseID      AgeID  GenderID  RaceEthnicityID  \\\n",
      "0          CCATS      QCATS       RYES    AGE6584        GF              ASN   \n",
      "1          CCATS      QCATS       RYES  AGE85PLUS        GM              OTH   \n",
      "2          CPROT     ISPROT        RRF    AGE4064      GALL              OTH   \n",
      "3          CPROT     ISPROT        RDK    AGE4064        GM          ALLRACE   \n",
      "4          CPROT     ISPROT      RSOMT    AGE1839        GM              ASN   \n",
      "...          ...        ...        ...        ...       ...              ...   \n",
      "71644     CFIELD      ISNS2        RRF    AGE4064      GALL              ASN   \n",
      "71645     CFIELD      ISNS2       RSWD  AGE18PLUS        GF          ALLRACE   \n",
      "71646     CFIELD      ISNS2      RNOTD    AGE1839        GF          ALLRACE   \n",
      "71647     CFIELD      ISNS2      RNOTD    AGE1839        GF             HISP   \n",
      "71648     CFIELD      ISNS2        RVD    AGE1839        GF              BLK   \n",
      "\n",
      "       RiskFactorID  RiskFactorResponseID  \n",
      "0              RFDM                  RFBD  \n",
      "1              RFDM                  RFNO  \n",
      "2              RFDM                 RFYES  \n",
      "3              RFDM                 RFYES  \n",
      "4              RFDM                  RFNO  \n",
      "...             ...                   ...  \n",
      "71644        RFAPAR                 RFTOT  \n",
      "71645        RFAPAR                 RFTOT  \n",
      "71646          RFSM                RFFORM  \n",
      "71647          RFDM                 RFYES  \n",
      "71648          RFDM                  RFNO  \n",
      "\n",
      "[71649 rows x 29 columns]\n"
     ]
    }
   ],
   "execution_count": 14
  },
  {
   "metadata": {},
   "cell_type": "markdown",
   "source": "### Now that we have cleared every useless colums, we define our rule of the Age range. We only want data that shows a ***range*** of data and not a `[AGE] and above` or `All ages` to make a clear statistic using the ranges that are provided",
   "id": "7d7c4595a0501c4c"
  },
  {
   "metadata": {
    "ExecuteTime": {
     "end_time": "2024-11-03T22:07:53.838691Z",
     "start_time": "2024-11-03T22:07:53.673549Z"
    }
   },
   "cell_type": "code",
   "source": [
    "#https://stackoverflow.com/questions/14661701/how-to-drop-a-list-of-rows-from-pandas-dataframe\n",
    "\n",
    "ind_drop = df[df['Age'].apply(lambda x: x.startswith('All ages'))].index\n",
    "\n",
    "df = df.drop(ind_drop)\n",
    "ind_drop = df[df['Age'].apply(lambda x: x.startswith('85 years and older'))].index\n",
    "df = df.drop(ind_drop)\n",
    "ind_drop = df[df['Age'].apply(lambda x: x.startswith('18 years and older'))].index\n",
    "df = df.drop(ind_drop)\n",
    "ind_drop = df[df['RiskFactor'].apply(lambda x: x.startswith('All participants'))].index\n",
    "df = df.drop(ind_drop)\n",
    "ind_drop = df[df['Gender'].apply(lambda x: x.startswith('All genders'))].index\n",
    "df = df.drop(ind_drop)\n",
    "df.dropna(subset=['Sample_Size'], inplace=True)\n",
    "\n",
    "df['Sample_Size'] = df['Sample_Size'].astype(int)\n",
    "\n",
    "df.head()"
   ],
   "id": "4b56c5716f69d073",
   "outputs": [
    {
     "data": {
      "text/plain": [
       "    YearStart  YearEnd LocationAbbr LocationDesc DataSource  \\\n",
       "3        2016     2017           US     National       NHIS   \n",
       "4        2016     2017           US     National       NHIS   \n",
       "5        2016     2017           US     National       NHIS   \n",
       "7        2016     2017           US     National       NHIS   \n",
       "10       2016     2017           US     National       NHIS   \n",
       "\n",
       "                  Topic                    Category  \\\n",
       "3   Service Utilization              Eye Protection   \n",
       "4   Service Utilization              Eye Protection   \n",
       "5   Service Utilization              Eye Protection   \n",
       "7       Visual Function  Blind or Difficulty Seeing   \n",
       "10      Visual Function  Difficulty Finding Objects   \n",
       "\n",
       "                                             Question          Response  \\\n",
       "3   Proportion of adults who participate in activi...        Don't Know   \n",
       "4   Proportion of adults who participate in activi...  Some of the time   \n",
       "5   Proportion of adults who participate in activi...            Always   \n",
       "7   Percentage of adults who are blind or unable t...               Yes   \n",
       "10  Percentage of adults who even when wearing gla...           Refused   \n",
       "\n",
       "            Age  ... Sample_Size TopicID CategoryID QuestionID ResponseID  \\\n",
       "3   40-64 years  ...         398    TUTL      CPROT     ISPROT        RDK   \n",
       "4   18-39 years  ...         174    TUTL      CPROT     ISPROT      RSOMT   \n",
       "5   18-39 years  ...         174    TUTL      CPROT     ISPROT       RALW   \n",
       "7   18-39 years  ...         587  TVFUNC     CBLIND      ISBLA       RYES   \n",
       "10  40-64 years  ...        7930  TVFUNC      CFUNC      ISFS5        RRF   \n",
       "\n",
       "      AgeID  GenderID  RaceEthnicityID  RiskFactorID  RiskFactorResponseID  \n",
       "3   AGE4064        GM          ALLRACE          RFDM                 RFYES  \n",
       "4   AGE1839        GM              ASN          RFDM                  RFNO  \n",
       "5   AGE1839        GM              ASN          RFDM                  RFNO  \n",
       "7   AGE1839        GF              ASN          RFHT                  RFNO  \n",
       "10  AGE4064        GF              WHT          RFDM                  RFNO  \n",
       "\n",
       "[5 rows x 29 columns]"
      ],
      "text/html": [
       "<div>\n",
       "<style scoped>\n",
       "    .dataframe tbody tr th:only-of-type {\n",
       "        vertical-align: middle;\n",
       "    }\n",
       "\n",
       "    .dataframe tbody tr th {\n",
       "        vertical-align: top;\n",
       "    }\n",
       "\n",
       "    .dataframe thead th {\n",
       "        text-align: right;\n",
       "    }\n",
       "</style>\n",
       "<table border=\"1\" class=\"dataframe\">\n",
       "  <thead>\n",
       "    <tr style=\"text-align: right;\">\n",
       "      <th></th>\n",
       "      <th>YearStart</th>\n",
       "      <th>YearEnd</th>\n",
       "      <th>LocationAbbr</th>\n",
       "      <th>LocationDesc</th>\n",
       "      <th>DataSource</th>\n",
       "      <th>Topic</th>\n",
       "      <th>Category</th>\n",
       "      <th>Question</th>\n",
       "      <th>Response</th>\n",
       "      <th>Age</th>\n",
       "      <th>...</th>\n",
       "      <th>Sample_Size</th>\n",
       "      <th>TopicID</th>\n",
       "      <th>CategoryID</th>\n",
       "      <th>QuestionID</th>\n",
       "      <th>ResponseID</th>\n",
       "      <th>AgeID</th>\n",
       "      <th>GenderID</th>\n",
       "      <th>RaceEthnicityID</th>\n",
       "      <th>RiskFactorID</th>\n",
       "      <th>RiskFactorResponseID</th>\n",
       "    </tr>\n",
       "  </thead>\n",
       "  <tbody>\n",
       "    <tr>\n",
       "      <th>3</th>\n",
       "      <td>2016</td>\n",
       "      <td>2017</td>\n",
       "      <td>US</td>\n",
       "      <td>National</td>\n",
       "      <td>NHIS</td>\n",
       "      <td>Service Utilization</td>\n",
       "      <td>Eye Protection</td>\n",
       "      <td>Proportion of adults who participate in activi...</td>\n",
       "      <td>Don't Know</td>\n",
       "      <td>40-64 years</td>\n",
       "      <td>...</td>\n",
       "      <td>398</td>\n",
       "      <td>TUTL</td>\n",
       "      <td>CPROT</td>\n",
       "      <td>ISPROT</td>\n",
       "      <td>RDK</td>\n",
       "      <td>AGE4064</td>\n",
       "      <td>GM</td>\n",
       "      <td>ALLRACE</td>\n",
       "      <td>RFDM</td>\n",
       "      <td>RFYES</td>\n",
       "    </tr>\n",
       "    <tr>\n",
       "      <th>4</th>\n",
       "      <td>2016</td>\n",
       "      <td>2017</td>\n",
       "      <td>US</td>\n",
       "      <td>National</td>\n",
       "      <td>NHIS</td>\n",
       "      <td>Service Utilization</td>\n",
       "      <td>Eye Protection</td>\n",
       "      <td>Proportion of adults who participate in activi...</td>\n",
       "      <td>Some of the time</td>\n",
       "      <td>18-39 years</td>\n",
       "      <td>...</td>\n",
       "      <td>174</td>\n",
       "      <td>TUTL</td>\n",
       "      <td>CPROT</td>\n",
       "      <td>ISPROT</td>\n",
       "      <td>RSOMT</td>\n",
       "      <td>AGE1839</td>\n",
       "      <td>GM</td>\n",
       "      <td>ASN</td>\n",
       "      <td>RFDM</td>\n",
       "      <td>RFNO</td>\n",
       "    </tr>\n",
       "    <tr>\n",
       "      <th>5</th>\n",
       "      <td>2016</td>\n",
       "      <td>2017</td>\n",
       "      <td>US</td>\n",
       "      <td>National</td>\n",
       "      <td>NHIS</td>\n",
       "      <td>Service Utilization</td>\n",
       "      <td>Eye Protection</td>\n",
       "      <td>Proportion of adults who participate in activi...</td>\n",
       "      <td>Always</td>\n",
       "      <td>18-39 years</td>\n",
       "      <td>...</td>\n",
       "      <td>174</td>\n",
       "      <td>TUTL</td>\n",
       "      <td>CPROT</td>\n",
       "      <td>ISPROT</td>\n",
       "      <td>RALW</td>\n",
       "      <td>AGE1839</td>\n",
       "      <td>GM</td>\n",
       "      <td>ASN</td>\n",
       "      <td>RFDM</td>\n",
       "      <td>RFNO</td>\n",
       "    </tr>\n",
       "    <tr>\n",
       "      <th>7</th>\n",
       "      <td>2016</td>\n",
       "      <td>2017</td>\n",
       "      <td>US</td>\n",
       "      <td>National</td>\n",
       "      <td>NHIS</td>\n",
       "      <td>Visual Function</td>\n",
       "      <td>Blind or Difficulty Seeing</td>\n",
       "      <td>Percentage of adults who are blind or unable t...</td>\n",
       "      <td>Yes</td>\n",
       "      <td>18-39 years</td>\n",
       "      <td>...</td>\n",
       "      <td>587</td>\n",
       "      <td>TVFUNC</td>\n",
       "      <td>CBLIND</td>\n",
       "      <td>ISBLA</td>\n",
       "      <td>RYES</td>\n",
       "      <td>AGE1839</td>\n",
       "      <td>GF</td>\n",
       "      <td>ASN</td>\n",
       "      <td>RFHT</td>\n",
       "      <td>RFNO</td>\n",
       "    </tr>\n",
       "    <tr>\n",
       "      <th>10</th>\n",
       "      <td>2016</td>\n",
       "      <td>2017</td>\n",
       "      <td>US</td>\n",
       "      <td>National</td>\n",
       "      <td>NHIS</td>\n",
       "      <td>Visual Function</td>\n",
       "      <td>Difficulty Finding Objects</td>\n",
       "      <td>Percentage of adults who even when wearing gla...</td>\n",
       "      <td>Refused</td>\n",
       "      <td>40-64 years</td>\n",
       "      <td>...</td>\n",
       "      <td>7930</td>\n",
       "      <td>TVFUNC</td>\n",
       "      <td>CFUNC</td>\n",
       "      <td>ISFS5</td>\n",
       "      <td>RRF</td>\n",
       "      <td>AGE4064</td>\n",
       "      <td>GF</td>\n",
       "      <td>WHT</td>\n",
       "      <td>RFDM</td>\n",
       "      <td>RFNO</td>\n",
       "    </tr>\n",
       "  </tbody>\n",
       "</table>\n",
       "<p>5 rows × 29 columns</p>\n",
       "</div>"
      ]
     },
     "execution_count": 15,
     "metadata": {},
     "output_type": "execute_result"
    }
   ],
   "execution_count": 15
  },
  {
   "metadata": {},
   "cell_type": "markdown",
   "source": "## after cleaning we check for duplicated cases",
   "id": "4b9b73a19f2f9b9a"
  },
  {
   "metadata": {
    "ExecuteTime": {
     "end_time": "2024-11-03T22:07:53.913256Z",
     "start_time": "2024-11-03T22:07:53.879226Z"
    }
   },
   "cell_type": "code",
   "source": "df.duplicated().sum()",
   "id": "9a4f8fcf19fdb2d6",
   "outputs": [
    {
     "data": {
      "text/plain": [
       "np.int64(0)"
      ]
     },
     "execution_count": 16,
     "metadata": {},
     "output_type": "execute_result"
    }
   ],
   "execution_count": 16
  },
  {
   "metadata": {},
   "cell_type": "markdown",
   "source": "## showing all question inside the csv",
   "id": "eaccee219a0c29e7"
  },
  {
   "metadata": {
    "ExecuteTime": {
     "end_time": "2024-11-03T23:31:41.005940Z",
     "start_time": "2024-11-03T23:31:40.995932Z"
    }
   },
   "cell_type": "code",
   "source": [
    "len(df['Question'].unique())\n",
    "\n",
    "df['Age'].unique()"
   ],
   "id": "839a952bfb3f2fea",
   "outputs": [
    {
     "data": {
      "text/plain": [
       "array(['40-64 years', '18-39 years', '65-84 years'], dtype=object)"
      ]
     },
     "execution_count": 26,
     "metadata": {},
     "output_type": "execute_result"
    }
   ],
   "execution_count": 26
  },
  {
   "metadata": {},
   "cell_type": "markdown",
   "source": "## After cleaning our Data we start with visualisation of the relation between the age and Sample size (the sample size are the participant in this surver)",
   "id": "f0333ef01a04083d"
  },
  {
   "metadata": {
    "ExecuteTime": {
     "end_time": "2024-11-03T23:31:47.553107Z",
     "start_time": "2024-11-03T23:31:47.496560Z"
    }
   },
   "cell_type": "code",
   "source": [
    "arange = ['18-39 years','40-64 years','65-84 years']\n",
    "procentual_distribution = []\n",
    "aged_classed_participant = {age: { 'participant': df[df['Age'] == age]['Sample_Size'].sum()} for age in arange}\n",
    "\n",
    "all_particpant = df['Sample_Size'].sum()\n",
    "\n",
    "participant_percentage = {age: (aged_classed_participant.get(age).get('participant') / all_particpant) *100 for age in arange}\n",
    "    \n",
    "plt.pie(participant_percentage.values(),labels=participant_percentage.keys() ,autopct='%1.1f%%')\n",
    "    \n"
   ],
   "id": "16321c92af614194",
   "outputs": [
    {
     "data": {
      "text/plain": [
       "([<matplotlib.patches.Wedge at 0x2c797490b30>,\n",
       "  <matplotlib.patches.Wedge at 0x2c797491a30>,\n",
       "  <matplotlib.patches.Wedge at 0x2c797482ff0>],\n",
       " [Text(0.5371296147902099, 0.9599436321552015, '18-39 years'),\n",
       "  Text(-1.0473423491513545, -0.33626478209012994, '40-64 years'),\n",
       "  Text(0.804867182674965, -0.7497925168023917, '65-84 years')],\n",
       " [Text(0.29297978988556905, 0.5236056175392008, '33.8%'),\n",
       "  Text(-0.5712776449916478, -0.18341715386734359, '42.4%'),\n",
       "  Text(0.43901846327725363, -0.40897773643766816, '23.9%')])"
      ]
     },
     "execution_count": 27,
     "metadata": {},
     "output_type": "execute_result"
    },
    {
     "data": {
      "text/plain": [
       "<Figure size 640x480 with 1 Axes>"
      ],
      "image/png": "[encoded data removed]"
     },
     "metadata": {},
     "output_type": "display_data"
    }
   ],
   "execution_count": 27
  },
  {
   "metadata": {},
   "cell_type": "markdown",
   "source": "## Now we Visualize the amount of Females and Males into a Pie",
   "id": "7790c3d63683f523"
  },
  {
   "metadata": {
    "ExecuteTime": {
     "end_time": "2024-11-03T22:07:54.297585Z",
     "start_time": "2024-11-03T22:07:54.240536Z"
    }
   },
   "cell_type": "code",
   "source": [
    "genders = ['Male', 'Female']\n",
    "\n",
    "genderClassedDistribution = {gender: {'amount': df[df['Gender'] == gender]['Sample_Size'].sum() } for gender in genders}\n",
    "\n",
    "allGenderAmount = df['Sample_Size'].sum()\n",
    "\n",
    "genderPercentage = {gender: (genderClassedDistribution.get(gender).get('amount') / all_particpant) *100 for gender in genders}\n",
    "\n",
    "plt.pie(genderPercentage.values(),labels=genderPercentage.keys() ,autopct='%1.1f%%')\n"
   ],
   "id": "873a01d244825428",
   "outputs": [
    {
     "data": {
      "text/plain": [
       "([<matplotlib.patches.Wedge at 0x2c7973ac890>,\n",
       "  <matplotlib.patches.Wedge at 0x2c79732fd10>],\n",
       " [Text(0.1350867453775378, 1.0916737476111187, 'Male'),\n",
       "  Text(-0.13508678007803573, -1.091673743317182, 'Female')],\n",
       " [Text(0.07368367929683879, 0.5954584077878828, '46.1%'),\n",
       "  Text(-0.07368369822438313, -0.5954584054457356, '53.9%')])"
      ]
     },
     "execution_count": 19,
     "metadata": {},
     "output_type": "execute_result"
    },
    {
     "data": {
      "text/plain": [
       "<Figure size 640x480 with 1 Axes>"
      ],
      "image/png": "[encoded data removed]"
     },
     "metadata": {},
     "output_type": "display_data"
    }
   ],
   "execution_count": 19
  },
  {
   "metadata": {},
   "cell_type": "markdown",
   "source": "### Visualisation of Male and Female Riskfaktors",
   "id": "69a22dd9dae32db2"
  },
  {
   "metadata": {
    "ExecuteTime": {
     "end_time": "2024-11-03T22:07:54.434703Z",
     "start_time": "2024-11-03T22:07:54.310597Z"
    }
   },
   "cell_type": "code",
   "source": [
    "import numpy as np\n",
    "\n",
    "riskFactors = df['RiskFactor'].unique()\n",
    "riskAnswer = df['RiskFactorResponse'].unique()\n",
    "\n",
    "maleRiskFactors = {risk:  df[(df['Gender'] == 'Male') & (df['RiskFactor'] == risk)]['Sample_Size'].sum()  for risk in riskFactors}\n",
    "femaleRiskFactors = {risk:  df[(df['Gender'] == 'Female') & (df['RiskFactor'] == risk)]['Sample_Size'].sum() for risk in riskFactors}\n",
    "maleFullAmountOfRisk = 0\n",
    "femaleFullAmountOfRisk = 0\n",
    "\n",
    "\n",
    "bar_width = 0.15\n",
    "r1 = np.arange(len(riskFactors))\n",
    "r2 = [x + bar_width for x in r1]\n",
    "\n",
    "\n",
    "fig, ax  = plt.subplots(figsize=(10, 6))\n",
    "ax.bar(r1, maleRiskFactors.values(),width=bar_width, label='Male Risk')\n",
    "ax.bar(r2, femaleRiskFactors.values(),width=bar_width, label='Female Risk')\n",
    "ax.set_xticks(([r + (bar_width / 2)  for r in range(len(riskFactors))]))\n",
    "ax.set_xticklabels(riskFactors)\n",
    "ax.set_title('Risk Distribution of the Genders')\n",
    "ax.set_xlabel('Risk Factor')\n",
    "ax.set_ylabel('Amount of Risk')\n",
    "ax.legend()\n",
    "\n",
    "\n",
    "\n",
    "\n",
    "plt.show()"
   ],
   "id": "5ba9604ffe8ef3ed",
   "outputs": [
    {
     "data": {
      "text/plain": [
       "<Figure size 1000x600 with 1 Axes>"
      ],
      "image/png": "[encoded data removed]"
     },
     "metadata": {},
     "output_type": "display_data"
    }
   ],
   "execution_count": 20
  },
  {
   "metadata": {},
   "cell_type": "markdown",
   "source": "Sperating them to year and Riskfactors",
   "id": "62c29aa029f9bec7"
  },
  {
   "metadata": {
    "ExecuteTime": {
     "end_time": "2024-11-03T23:27:57.676815Z",
     "start_time": "2024-11-03T23:27:57.584735Z"
    }
   },
   "cell_type": "code",
   "source": [
    "import numpy as np\n",
    "\n",
    "yearRange = df['YearStart'].unique()\n",
    "\n",
    "\n",
    "yearRisk2014 = {risk:  df[(df['RiskFactor'] == risk) & (df['YearStart'] == 2014)]['Sample_Size'].sum()  for risk in riskFactors}\n",
    "yearRisk2016 = {risk:  df[ (df['RiskFactor'] == risk) & (df['YearStart'] == 2016)]['Sample_Size'].sum() for risk in riskFactors}\n",
    "\n",
    "\n",
    "\n",
    "bar_width = 0.15\n",
    "r1 = np.arange(len(riskFactors))#\n",
    "r2 = [x + bar_width for x in r1]#\n",
    "\n",
    "\n",
    "fig, ax  = plt.subplots(figsize=(10, 6))\n",
    "ax.bar(r1, yearRisk2014.values(),width=bar_width, label='Risk year: 2014-2015')\n",
    "ax.bar(r2, yearRisk2016.values(),width=bar_width, label='Risk year: 2016-2017')\n",
    "ax.set_xticks(([r + (bar_width / 2)  for r in range(len(riskFactors))]))\n",
    "ax.set_xticklabels(riskFactors)\n",
    "ax.set_title('Risk Distribution in the survey over the year')\n",
    "ax.set_xlabel('Risk Factor')\n",
    "ax.set_ylabel('Amount of Risk')\n",
    "ax.legend()\n",
    "\n",
    "\n",
    "\n",
    "\n",
    "plt.show()"
   ],
   "id": "39b07698b06b1da8",
   "outputs": [
    {
     "data": {
      "text/plain": [
       "<Figure size 1000x600 with 1 Axes>"
      ],
      "image/png": "[encoded data removed]"
     },
     "metadata": {},
     "output_type": "display_data"
    }
   ],
   "execution_count": 25
  },
  {
   "metadata": {},
   "cell_type": "markdown",
   "source": [
    "As we can see, the statistic shows that the risks in the survey has increased drastically\n",
    "now, how about the distrubution about the Male and Female ove the year?"
   ],
   "id": "98ea75af7de96e42"
  },
  {
   "metadata": {
    "ExecuteTime": {
     "end_time": "2024-11-03T23:27:06.264170Z",
     "start_time": "2024-11-03T23:27:06.047485Z"
    }
   },
   "cell_type": "code",
   "source": [
    "\n",
    "# Getting all the data out of the Dataframe\n",
    "yearRiskFemale2014 = {risk:  df[(df['RiskFactor'] == risk) & (df['RiskFactorResponse'] == 'Yes') | (df['RiskFactorResponse'] == 'Current smoker' ) & (df['YearStart'] == 2014) & (df['Gender'] == 'Female')]['Sample_Size'].sum()  for risk in riskFactors}\n",
    "yearRiskMale2014 = {risk:  df[(df['RiskFactor'] == risk) & (df['RiskFactorResponse'] == 'Yes') | (df['RiskFactorResponse'] == 'Current smoker' ) & (df['YearStart'] == 2014) & (df['Gender'] == 'Male')]['Sample_Size'].sum()  for risk in riskFactors}\n",
    "yearRiskFemale2016 = {risk:  df[(df['RiskFactor'] == risk) & (df['RiskFactorResponse'] == 'Yes') | (df['RiskFactorResponse'] == 'Current smoker' ) & (df['YearStart'] == 2016) & (df['Gender'] == 'Female')]['Sample_Size'].sum()  for risk in riskFactors}\n",
    "yearRiskMale2016 = {risk:  df[(df['RiskFactor'] == risk) & (df['RiskFactorResponse'] == 'Yes') | (df['RiskFactorResponse'] == 'Current smoker' ) & (df['YearStart'] == 2016) & (df['Gender'] == 'Female')]['Sample_Size'].sum()  for risk in riskFactors}\n",
    "\n",
    "#Building the Bar char\n",
    "\n",
    "\n",
    "bar_width = 0.15\n",
    "r1 = np.arange(len(riskFactors))\n",
    "r2 = [x + bar_width for x in r1]\n",
    "r3 = [x + bar_width for x in r2]\n",
    "r4 = [x + bar_width for x in r3]\n",
    "\n",
    "fig, ax  = plt.subplots(figsize=(10, 6))\n",
    "ax.bar(r1, yearRiskFemale2014.values(),width=bar_width, label='Risk Female year: 2014-2015')\n",
    "ax.bar(r2, yearRiskMale2014.values(),width=bar_width, label='Risk Male year: 2014-2015')\n",
    "ax.bar(r3, yearRiskFemale2016.values(),width=bar_width, label='Risk Female year: 2016-2017')\n",
    "ax.bar(r4, yearRiskMale2016.values(),width=bar_width, label='Risk Male year: 2016-2017')\n",
    "ax.set_xticks(([r + (bar_width + 0.07)  for r in range(len(riskFactors))]))\n",
    "ax.set_xticklabels(riskFactors)\n",
    "ax.set_title('Risk Distribution over the year Male and Female')\n",
    "ax.set_xlabel('Risk Factor')\n",
    "ax.set_ylabel('Amount of Risk')\n",
    "ax.legend()\n",
    "\n"
   ],
   "id": "cd427be938e97f5c",
   "outputs": [
    {
     "data": {
      "text/plain": [
       "<matplotlib.legend.Legend at 0x2c79741e960>"
      ]
     },
     "execution_count": 23,
     "metadata": {},
     "output_type": "execute_result"
    },
    {
     "data": {
      "text/plain": [
       "<Figure size 1000x600 with 1 Axes>"
      ],
      "image/png": "[encoded data removed]"
     },
     "metadata": {},
     "output_type": "display_data"
    }
   ],
   "execution_count": 23
  },
  {
   "metadata": {},
   "cell_type": "markdown",
   "source": "Lets take a closer look into the smoking part, since it has some strange behavior ",
   "id": "7d7250e1770c6691"
  },
  {
   "metadata": {
    "ExecuteTime": {
     "end_time": "2024-11-03T01:01:25.452606Z",
     "start_time": "2024-11-03T01:01:25.447101Z"
    }
   },
   "cell_type": "code",
   "source": [
    "# Seeing what possible answer are there regarding to smoking\n",
    "\n",
    "df['RiskFactorResponse'].unique()\n",
    "#As we can see there is only 'Current smoker','Never smoker','Former smoker' as a possible answer..."
   ],
   "id": "a4a16e9feb5e7554",
   "outputs": [
    {
     "data": {
      "text/plain": [
       "array(['Yes', 'No', 'Former smoker', 'Never smoker', 'Total',\n",
       "       'Borderline', 'Current smoker'], dtype=object)"
      ]
     },
     "execution_count": 33,
     "metadata": {},
     "output_type": "execute_result"
    }
   ],
   "execution_count": 33
  },
  {
   "metadata": {},
   "cell_type": "markdown",
   "source": "### Now that we have cleared what kind of a answer are there we gonna work with the smoking part.",
   "id": "70a7d419bec242bc"
  },
  {
   "metadata": {},
   "cell_type": "code",
   "outputs": [],
   "execution_count": null,
   "source": [
    "smokingAnswers = ['Current smoker','Never smoker','Former smoker']\n",
    "\n",
    "smokerTypeYear = { year: {'gender': gender,  } for year in yearRange for gender in genders}\n",
    "\n"
   ],
   "id": "59a2f77190ab99a4"
  }
 ],
 "metadata": {
  "kernelspec": {
   "display_name": "Python 3",
   "language": "python",
   "name": "python3"
  },
  "language_info": {
   "codemirror_mode": {
    "name": "ipython",
    "version": 2
   },
   "file_extension": ".py",
   "mimetype": "text/x-python",
   "name": "python",
   "nbconvert_exporter": "python",
   "pygments_lexer": "ipython2",
   "version": "2.7.6"
  }
 },
 "nbformat": 4,
 "nbformat_minor": 5
}
